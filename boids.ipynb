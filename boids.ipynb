{
 "cells": [
  {
   "cell_type": "markdown",
   "id": "03e7dffc-f203-4b1e-a1d1-53437fe12e29",
   "metadata": {},
   "source": [
    "# Boids"
   ]
  },
  {
   "cell_type": "code",
   "execution_count": null,
   "id": "ed3774e4-6149-4a9e-9e26-083864a00789",
   "metadata": {},
   "outputs": [],
   "source": [
    "print(\"hello world\")"
   ]
  },
  {
   "cell_type": "code",
   "execution_count": null,
   "id": "c606d159-340a-4799-9a7b-b0d8ff21fbaf",
   "metadata": {},
   "outputs": [],
   "source": [
    "from random import randint\n",
    "\n",
    "def generate_boid_attributes(lower, upper, n=10):\n",
    "    attributes = []\n",
    "    for i in range(n):\n",
    "        attributes.append((randint(lower[0], upper[0]),\n",
    "                           randint(lower[1], upper[1])))\n",
    "    \n",
    "    return attributes\n",
    "\n",
    "\n",
    "assert len(generate_boid_attributes([0, 0], [1, 1])) == 10\n",
    "\n",
    "first_boid_first_attribute = generate_boid_attributes([0, 0], [1, 1])[0][0] \n",
    "assert first_boid_first_attribute == 0, first_boid_first_attribute"
   ]
  },
  {
   "cell_type": "code",
   "execution_count": null,
   "id": "bbce4fec-84b7-4e40-8dff-aacd6682ad9c",
   "metadata": {},
   "outputs": [],
   "source": [
    "lower=[150,300]  # x-lower, y-lower\n",
    "upper=[200,400]  # x-upper, y-upp\n",
    "\n",
    "pos=generate_boid_attributes(lower, upper)\n",
    "pos"
   ]
  },
  {
   "cell_type": "code",
   "execution_count": null,
   "id": "862794d4-fe24-4d74-b92c-68fe3c15b80f",
   "metadata": {},
   "outputs": [],
   "source": [
    "lower_v=[5, -10]  # x-lower, y-lower\n",
    "upper_v=[15, 5]  # x-upper, y-upp\n",
    "\n",
    "vel=generate_boid_attributes(lower_v, upper_v)\n",
    "vel"
   ]
  },
  {
   "cell_type": "code",
   "execution_count": null,
   "id": "bc99dfdf-1fd4-4a0a-99f3-56b974b812ba",
   "metadata": {},
   "outputs": [],
   "source": [
    "x_vals = [p[0] for p in pos]\n",
    "y_vals = [p[1] for p in pos]\n",
    "\n",
    "from matplotlib import pyplot as plt\n",
    "\n",
    "plt.xlim(0, 1000)\n",
    "plt.ylim(0, 700)\n",
    "\n",
    "scat = plt.scatter(x_vals, y_vals)"
   ]
  },
  {
   "cell_type": "code",
   "execution_count": null,
   "id": "8025f14f-686e-4beb-8102-258f0c953090",
   "metadata": {},
   "outputs": [],
   "source": [
    "def update_scatter(frames):\n",
    "    \"\"\"Updates the scatter plot.\"\"\"\n",
    "    for i in range(len(pos)):\n",
    "        pos[i] = (pos[i][0] + vel[i][0],\n",
    "                  pos[i][1] + vel[i][1])\n",
    "        \n",
    "    scat.set_offsets(pos)"
   ]
  },
  {
   "cell_type": "code",
   "execution_count": null,
   "id": "dd47c7bc-d08d-4631-a845-6cc9744d5211",
   "metadata": {},
   "outputs": [],
   "source": [
    "import matplotlib.animation as animation\n",
    "from IPython.display import HTML\n",
    "\n",
    "anim = animation.FuncAnimation(scat.figure,\n",
    "                               update_scatter,\n",
    "                               # frames=50,\n",
    "                               interval=50)\n",
    "\n",
    "HTML(anim.to_jshtml())"
   ]
  }
 ],
 "metadata": {
  "kernelspec": {
   "display_name": "Python 3 (ipykernel)",
   "language": "python",
   "name": "python3"
  },
  "language_info": {
   "codemirror_mode": {
    "name": "ipython",
    "version": 3
   },
   "file_extension": ".py",
   "mimetype": "text/x-python",
   "name": "python",
   "nbconvert_exporter": "python",
   "pygments_lexer": "ipython3",
   "version": "3.9.10"
  }
 },
 "nbformat": 4,
 "nbformat_minor": 5
}
